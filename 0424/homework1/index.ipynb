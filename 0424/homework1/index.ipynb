{
 "cells": [
  {
   "cell_type": "code",
   "execution_count": 17,
   "metadata": {},
   "outputs": [
    {
     "name": "stdout",
     "output_type": "stream",
     "text": [
      "請輸入你的成績100\n",
      "優秀!!!\n"
     ]
    }
   ],
   "source": [
    "grade=input(\"請輸入你的成績\")\n",
    "if int(grade)<60:\n",
    "  print(\"不及格!\")\n",
    "else :\n",
    "  if int(grade)>80:\n",
    "    print(\"優秀!!!\")\n",
    "  else :\n",
    "   print(\"及格!\")"
   ]
  },
  {
   "cell_type": "code",
   "execution_count": null,
   "metadata": {},
   "outputs": [],
   "source": []
  }
 ],
 "metadata": {
  "kernelspec": {
   "display_name": "Python 3",
   "language": "python",
   "name": "python3"
  },
  "language_info": {
   "codemirror_mode": {
    "name": "ipython",
    "version": 3
   },
   "file_extension": ".py",
   "mimetype": "text/x-python",
   "name": "python",
   "nbconvert_exporter": "python",
   "pygments_lexer": "ipython3",
   "version": "3.7.2"
  }
 },
 "nbformat": 4,
 "nbformat_minor": 2
}
